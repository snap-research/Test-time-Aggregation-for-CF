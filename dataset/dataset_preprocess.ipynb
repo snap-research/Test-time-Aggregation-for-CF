{
 "cells": [
  {
   "cell_type": "code",
   "execution_count": null,
   "metadata": {},
   "outputs": [],
   "source": [
    "! git clone https://github.com/kuandeng/LightGCN"
   ]
  },
  {
   "cell_type": "code",
   "execution_count": 1,
   "metadata": {},
   "outputs": [],
   "source": [
    "import os \n",
    "dataset_folder = '.'\n",
    "DATASETS = ['amazon-book', 'gowalla', 'yelp2018']\n",
    "os.makedirs(dataset_folder, exist_ok=True)"
   ]
  },
  {
   "cell_type": "code",
   "execution_count": 2,
   "metadata": {},
   "outputs": [],
   "source": [
    "for dataset in DATASETS:\n",
    "    os.makedirs(f'{dataset_folder}/{dataset}', exist_ok=True)\n",
    "    with open(f'{dataset_folder}/{dataset}/ratings.dat', 'a') as dst_file:\n",
    "        with open(f'LightGCN/Data/{dataset}/train.txt', 'r') as file:\n",
    "            for row in file:\n",
    "                row = row.strip().split(' ')\n",
    "                user = row[0]\n",
    "                for item in row[1:]:\n",
    "                    dst_file.write(f'{user}::{item}\\n')\n",
    "        \n",
    "        with open(f'LightGCN/Data/{dataset}/test.txt', 'r') as file:\n",
    "            for row in file:\n",
    "                row = row.strip().split(' ')\n",
    "                user = row[0]\n",
    "                for item in row[1:]:\n",
    "                    dst_file.write(f'{user}::{item}\\n')"
   ]
  }
 ],
 "metadata": {
  "kernelspec": {
   "display_name": "tagcf",
   "language": "python",
   "name": "python3"
  },
  "language_info": {
   "codemirror_mode": {
    "name": "ipython",
    "version": 3
   },
   "file_extension": ".py",
   "mimetype": "text/x-python",
   "name": "python",
   "nbconvert_exporter": "python",
   "pygments_lexer": "ipython3",
   "version": "3.10.14"
  }
 },
 "nbformat": 4,
 "nbformat_minor": 2
}
